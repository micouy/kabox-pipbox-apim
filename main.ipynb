{
 "cells": [
  {
   "cell_type": "code",
   "execution_count": 25,
   "id": "celtic-vertical",
   "metadata": {},
   "outputs": [],
   "source": [
    "with open(\"output/araport11-headers.txt\") as f:\n",
    "    araport_header_ls = [int(line) - 1 for line in f]\n",
    "\n",
    "with open(\"datasets/tair-protein-locations.csv\") as f:\n",
    "    araport_locations = [tuple(line.split()) for line in f]\n",
    "    araport_locations = dict([kv for kv in araport_locations if len(kv) == 2])\n",
    "\n",
    "with open(\"datasets/araport11.fasta\") as f:\n",
    "    lines = [line for line in f]\n",
    "    araport = {}\n",
    "    for i, header_l in enumerate(araport_header_ls):\n",
    "        next_header_l = araport_header_ls[i + 1] if i + 1 < len(araport_header_ls) else len(araport) - 1\n",
    "        header = lines[header_l].removeprefix(\">\").replace(\"\\n\", \"\")\n",
    "        agi, _, meta = header.partition(\" \")\n",
    "        meta = meta.removeprefix(\"| \")\n",
    "        sequence = \"\".join(lines[header_l + 1:next_header_l]).replace(\"\\n\", \"\")\n",
    "        location = araport_locations[agi]\n",
    "        araport[agi] = (meta, location, sequence)"
   ]
  },
  {
   "cell_type": "code",
   "execution_count": 18,
   "id": "removable-border",
   "metadata": {},
   "outputs": [],
   "source": [
    "with open(\"datasets/araport11.csv\", \"w+\") as f:\n",
    "    lines = [\"\\t\".join([agi, location, \"\\\"\" + meta + \"\\\"\", sequence]) for (agi, (meta, location, sequence)) in araport.items()]\n",
    "    content = \"\\n\".join(lines)\n",
    "    f.write(content)"
   ]
  },
  {
   "cell_type": "code",
   "execution_count": 67,
   "id": "nasty-subject",
   "metadata": {},
   "outputs": [],
   "source": [
    "# helper functions\n",
    "\n",
    "from bisect import bisect\n",
    "from datetime import datetime\n",
    "import os\n",
    "\n",
    "def identify_protein(match_line, araport):\n",
    "    return araport[araport_header_ls[bisect(araport_header_ls, match_line) - 1]]\n",
    "\n",
    "def parse_agi_descr(header):\n",
    "    header = header.removeprefix('>').removesuffix('\\n')\n",
    "    (agi, _, descr) = header.partition(' | ')\n",
    "\n",
    "    return (agi, descr)\n",
    "\n",
    "def group_agis(agis_with_meta):\n",
    "    split_agis = [(*agi.split('.'), meta) for (agi, meta) in agis_with_locations.items()]\n",
    "    grouped = { agi_core:[] for (agi_core, _, _) in split_agis }\n",
    "    \n",
    "    for (agi_core, agi_suffix, meta) in split_agis:\n",
    "        grouped[agi_core].append((agi_suffix, meta))\n",
    "    \n",
    "    return grouped\n",
    "\n",
    "def save_proteins(proteins, prefix, dir_path):\n",
    "    output = \"\\n\".join([\"\\t\".join([agi, match, meta]) for (agi, (meta, _location, match)) in proteins.items()])\n",
    "    timestamp = datetime.now().strftime(\"%Y-%m-%dT%H-%M\")\n",
    "    output_path = os.path.join(dir_path, prefix + \"-\" + timestamp + \".txt\")\n",
    "    \n",
    "    with open(output_path, \"x\") as f:\n",
    "        f.write(output)\n",
    "\n",
    "def filter_proteins(re, searched_location):\n",
    "    proteins = {\n",
    "        agi: (meta, location, re.search(sequence))\n",
    "        for (agi, (meta, location, sequence)) in araport.items()\n",
    "    }\n",
    "    proteins = {\n",
    "        agi: (meta, location, match.group(0))\n",
    "        for (agi, (meta, location, match)) in proteins.items()\n",
    "        if match\n",
    "    }\n",
    "    proteins_located = {\n",
    "        agi: (meta, location, match)\n",
    "        for (agi, (meta, location, match)) in proteins.items()\n",
    "        if location == searched_location\n",
    "    }\n",
    "\n",
    "    return proteins_located"
   ]
  },
  {
   "cell_type": "code",
   "execution_count": 168,
   "id": "apparent-academy",
   "metadata": {},
   "outputs": [
    {
     "name": "stdout",
     "output_type": "stream",
     "text": [
      "the number proteins in the location dataset:\n",
      "48359\n"
     ]
    }
   ],
   "source": [
    "# the location dataset\n",
    "\n",
    "print(\"the number proteins in the location dataset:\")\n",
    "print(len(araport_locations))"
   ]
  },
  {
   "cell_type": "markdown",
   "id": "liable-opera",
   "metadata": {},
   "source": [
    "# KA-box\n",
    "\n",
    "> Recently, by exploiting a random peptide display library, Xu et al.\n",
    "identified a novel PCNA binding motif, **`K-A-(A/L/I)-(A/L/Q)-x-x-(L/V)`**,\n",
    "termed the **KA-box**.\n",
    "\n",
    "The proteins were identified by running\n",
    "\n",
    "```\n",
    "rg 'KA[ALI][ALQ]..[LV]' <araport11 dataset> -n | rg d+ -o > <output file>\n",
    "```"
   ]
  },
  {
   "cell_type": "code",
   "execution_count": 148,
   "id": "precise-cocktail",
   "metadata": {},
   "outputs": [
    {
     "data": {
      "text/plain": [
       "12168"
      ]
     },
     "execution_count": 148,
     "metadata": {},
     "output_type": "execute_result"
    }
   ],
   "source": [
    "1*1*3*3*26*26*2"
   ]
  },
  {
   "cell_type": "markdown",
   "id": "alpha-french",
   "metadata": {},
   "source": [
    "# APIM\n",
    "\n",
    "> [...] **APIM** was defined as **`[KR]-[FYW]-[LIVA]-[LIVA]-[KR]`**.\n",
    "\n",
    "The proteins were identified by running\n",
    "\n",
    "```\n",
    "rg '[KR][FYW][LIVA][LIVA][KR]' <araport11 dataset> -n | rg '\\d+' -o > <output file>\n",
    "```"
   ]
  },
  {
   "cell_type": "code",
   "execution_count": 147,
   "id": "taken-tender",
   "metadata": {},
   "outputs": [
    {
     "data": {
      "text/plain": [
       "192"
      ]
     },
     "execution_count": 147,
     "metadata": {},
     "output_type": "execute_result"
    }
   ],
   "source": [
    "2*3*4*4*2"
   ]
  },
  {
   "cell_type": "markdown",
   "id": "statutory-cheese",
   "metadata": {},
   "source": [
    "# PIP-box\n",
    "\n",
    "> This conserved PCNA-binding motif was termed the PCNA interaction\n",
    "protein box (**PIP-box**) (26). An alignment of these binding motifs shows\n",
    "that it consists of the sequence **`Q-x-x-(h)-x-x-(a)-(a)`** (where “h”\n",
    "represents residues with moderately hydrophobic side chains, e.g., L,\n",
    "I, M; “a” represents residues with highly hydrophobic, aromatic side\n",
    "chains, e.g., F, Y; and “x” is any residue) (25, 26).\n",
    "\n",
    "> jeszcze raz przeszukać bazę pod kątem PIP-box i dodatkowo w pozycji h dodać (E oraz D)\n",
    "\n",
    "\n",
    "The proteins were identified by running\n",
    "\n",
    "```\n",
    "~~rg 'Q..[LIM]..[FY][FY]' <araport11 dataset> -n | rg '\\d+' -o > <output file>~~\n",
    "```\n",
    "\n",
    "```\n",
    "rg 'Q..[LIMED]..[FY][FY]' <araport11 dataset> -n | rg '\\d+' -o > <output file>\n",
    "```"
   ]
  },
  {
   "cell_type": "code",
   "execution_count": 156,
   "id": "electronic-economics",
   "metadata": {},
   "outputs": [
    {
     "data": {
      "text/plain": [
       "9139520"
      ]
     },
     "execution_count": 156,
     "metadata": {},
     "output_type": "execute_result"
    }
   ],
   "source": [
    "1*26*26*5*26*26*2*2"
   ]
  },
  {
   "cell_type": "code",
   "execution_count": 68,
   "id": "blocked-restoration",
   "metadata": {},
   "outputs": [],
   "source": [
    "import re\n",
    "\n",
    "pipbox_re = re.compile(r\"Q..[LIMED]..[FY][FY]\")\n",
    "kabox_re = re.compile(r\"KA[ALI][ALQ]..[LV]\")\n",
    "apim_re = re.compile(r\"[KR][FYW][LIVA][LIVA][KR]\")\n",
    "\n",
    "prefixes_with_res = [\n",
    "    (\"kabox\", kabox_re),\n",
    "    (\"apim\", apim_re),\n",
    "    (\"pipbox\", pipbox_re),\n",
    "]\n",
    "\n",
    "for (motif, motif_re) in prefixes_with_res:\n",
    "    for location in [\"Nucleus\", \"Unknown\"]:\n",
    "        prefix = motif + \"-\" + location.lower()\n",
    "        \n",
    "        proteins = filter_proteins(motif_re, location)\n",
    "        save_proteins(proteins, prefix, \"output\")"
   ]
  }
 ],
 "metadata": {
  "kernelspec": {
   "display_name": "bio-venv",
   "language": "python",
   "name": "bio-venv"
  },
  "language_info": {
   "codemirror_mode": {
    "name": "ipython",
    "version": 3
   },
   "file_extension": ".py",
   "mimetype": "text/x-python",
   "name": "python",
   "nbconvert_exporter": "python",
   "pygments_lexer": "ipython3",
   "version": "3.9.0"
  }
 },
 "nbformat": 4,
 "nbformat_minor": 5
}
